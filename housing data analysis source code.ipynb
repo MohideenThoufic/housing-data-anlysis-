{
 "cells": [
  {
   "cell_type": "code",
   "execution_count": null,
   "metadata": {},
   "outputs": [],
   "source": [
    "#importing the libraiers\n",
    "import numpy as np\n",
    "import pandas as pd\n",
    "import matplotlib.pyplot as plt\n",
    "%matplotlib inline\n",
    "import scipy.stats as sci\n",
    "import seaborn as sns\n",
    "import warnings\n",
    "warnings.simplefilter('ignore')"
   ]
  },
  {
   "cell_type": "code",
   "execution_count": null,
   "metadata": {},
   "outputs": [],
   "source": [
    "house = pd.read_csv('PEP1.csv')"
   ]
  },
  {
   "cell_type": "markdown",
   "metadata": {},
   "source": [
    "# 1.a identify shape of dataset "
   ]
  },
  {
   "cell_type": "code",
   "execution_count": null,
   "metadata": {},
   "outputs": [],
   "source": [
    "# to view no of rows and columns \n",
    "house.shape"
   ]
  },
  {
   "cell_type": "markdown",
   "metadata": {},
   "source": [
    "# 1.b identify variables with null values "
   ]
  },
  {
   "cell_type": "code",
   "execution_count": null,
   "metadata": {},
   "outputs": [],
   "source": [
    "#provide summary of the dataset \n",
    "house.info()"
   ]
  },
  {
   "cell_type": "code",
   "execution_count": null,
   "metadata": {},
   "outputs": [],
   "source": [
    "#it is used to view maximum no of columns in the data set \n",
    "pd.set_option('display.max_columns',100)"
   ]
  },
  {
   "cell_type": "code",
   "execution_count": null,
   "metadata": {},
   "outputs": [],
   "source": [
    "#describe of function returns the statistical data if the numerical columns \n",
    "house.describe()"
   ]
  },
  {
   "cell_type": "markdown",
   "metadata": {},
   "source": [
    "# 1.c unique values"
   ]
  },
  {
   "cell_type": "code",
   "execution_count": null,
   "metadata": {},
   "outputs": [],
   "source": [
    "#finding unique values in columns \n",
    "for column in house:\n",
    "    print(house[column].value_counts())"
   ]
  },
  {
   "cell_type": "markdown",
   "metadata": {},
   "source": [
    "# 2 seperate dataset for numerical and categorical data "
   ]
  },
  {
   "cell_type": "code",
   "execution_count": null,
   "metadata": {},
   "outputs": [],
   "source": [
    "house_num = house.select_dtypes(include='number')"
   ]
  },
  {
   "cell_type": "code",
   "execution_count": null,
   "metadata": {},
   "outputs": [],
   "source": [
    "house_num.head()"
   ]
  },
  {
   "cell_type": "code",
   "execution_count": null,
   "metadata": {},
   "outputs": [],
   "source": [
    "house_num.shape"
   ]
  },
  {
   "cell_type": "code",
   "execution_count": null,
   "metadata": {},
   "outputs": [],
   "source": [
    "for column in house_num:\n",
    "    print(house_num[column].value_counts())"
   ]
  },
  {
   "cell_type": "code",
   "execution_count": null,
   "metadata": {},
   "outputs": [],
   "source": [
    "house_num = house_num.drop(['YrSold','MoSold','GarageCars','GarageYrBlt','Fireplaces','TotRmsAbvGrd','Kitchen','Bedroom','HalfBath','FullBath','BsmtHalfBath','BsmtFullBath','YearRemodAdd','YearBuilt','MSSubClass','OverallCond','OverallQual'],axis=1)"
   ]
  },
  {
   "cell_type": "code",
   "execution_count": null,
   "metadata": {},
   "outputs": [],
   "source": [
    "house_num"
   ]
  },
  {
   "cell_type": "code",
   "execution_count": null,
   "metadata": {},
   "outputs": [],
   "source": [
    "house['MoSold'] = house['MoSold'].astype(object)\n",
    "house['YrSold'] = house['YrSold'].astype(object)\n",
    "house['GarageCars'] = house['GarageCars'].astype(object)\n",
    "house['GarageYrBlt'] = house['GarageYrBlt'].astype(object)\n",
    "house['Fireplaces'] = house['Fireplaces'].astype(object)\n",
    "house['TotRmsAbvGrd'] = house['TotRmsAbvGrd'].astype(object)\n",
    "house['Kitchen'] = house['Kitchen'].astype(object)\n",
    "house['Bedroom'] = house['Bedroom'].astype(object)\n",
    "house['HalfBath'] = house['HalfBath'].astype(object)\n",
    "house['FullBath'] = house['FullBath'].astype(object)\n",
    "house['BsmtHalfBath'] = house['BsmtHalfBath'].astype(object)\n",
    "house['BsmtFullBath'] = house['BsmtFullBath'].astype(object)\n",
    "house['YearRemodAdd'] = house['YearRemodAdd'].astype(object)\n",
    "house['YearBuilt'] = house['YearBuilt'].astype(object)\n",
    "house['MSSubClass'] = house['MSSubClass'].astype(object)\n",
    "house['OverallCond'] = house['OverallCond'].astype(object)\n",
    "house['OverallQual'] = house['OverallQual'].astype(object)"
   ]
  },
  {
   "cell_type": "code",
   "execution_count": null,
   "metadata": {},
   "outputs": [],
   "source": [
    "house_cat = house.select_dtypes(include='object')"
   ]
  },
  {
   "cell_type": "code",
   "execution_count": null,
   "metadata": {},
   "outputs": [],
   "source": [
    "house_cat"
   ]
  },
  {
   "cell_type": "code",
   "execution_count": null,
   "metadata": {},
   "outputs": [],
   "source": [
    "house.info()"
   ]
  },
  {
   "cell_type": "code",
   "execution_count": null,
   "metadata": {},
   "outputs": [],
   "source": [
    "#  3. EDA FOR NUMERICAL DATA \n",
    "#CHECKING FOR NULL VALUES \n",
    "\n",
    "house_num.isnull().sum()"
   ]
  },
  {
   "cell_type": "code",
   "execution_count": null,
   "metadata": {},
   "outputs": [],
   "source": [
    "\n",
    "house_num['LotFrontage'].value_counts()"
   ]
  },
  {
   "cell_type": "code",
   "execution_count": null,
   "metadata": {},
   "outputs": [],
   "source": [
    "house_num['LotFrontage'].describe()"
   ]
  },
  {
   "cell_type": "markdown",
   "metadata": {},
   "source": [
    "# 3.a MISSING VALUE TREATMENT "
   ]
  },
  {
   "cell_type": "code",
   "execution_count": null,
   "metadata": {},
   "outputs": [],
   "source": [
    "#IMPUTING MISSING VALUE VALUE WITH MOST FREQUENTLY AVAILABLE VALUE AND IT IS PRETTY CLOSE TO MEAN AND 50% OF THE VARIABLE "
   ]
  },
  {
   "cell_type": "code",
   "execution_count": null,
   "metadata": {},
   "outputs": [],
   "source": [
    "house_num['LotFrontage'].fillna(60,inplace=True)"
   ]
  },
  {
   "cell_type": "code",
   "execution_count": null,
   "metadata": {},
   "outputs": [],
   "source": [
    "house_num['LotFrontage'].describe()"
   ]
  },
  {
   "cell_type": "code",
   "execution_count": null,
   "metadata": {},
   "outputs": [],
   "source": [
    "house_num['MasVnrArea'].describe()"
   ]
  },
  {
   "cell_type": "code",
   "execution_count": null,
   "metadata": {},
   "outputs": [],
   "source": [
    "house_num['MasVnrArea'].value_counts()"
   ]
  },
  {
   "cell_type": "code",
   "execution_count": null,
   "metadata": {},
   "outputs": [],
   "source": [
    "#IMPUTING THE MISSING VALUE WITH 0 BECAUSE ITS MOST FREQUENTLY AVAILABLE AND MEDIAN VALUE OF THE VARIABLE "
   ]
  },
  {
   "cell_type": "code",
   "execution_count": null,
   "metadata": {},
   "outputs": [],
   "source": [
    "house_num['MasVnrArea'].fillna(0,inplace=True )"
   ]
  },
  {
   "cell_type": "code",
   "execution_count": null,
   "metadata": {},
   "outputs": [],
   "source": [
    "house_num['MasVnrArea'].describe()"
   ]
  },
  {
   "cell_type": "code",
   "execution_count": null,
   "metadata": {},
   "outputs": [],
   "source": [
    "house_num['LotFrontage'].describe()"
   ]
  },
  {
   "cell_type": "code",
   "execution_count": null,
   "metadata": {},
   "outputs": [],
   "source": [
    "house_num.describe()"
   ]
  },
  {
   "cell_type": "markdown",
   "metadata": {},
   "source": [
    "# 3.b skewness and distribution "
   ]
  },
  {
   "cell_type": "code",
   "execution_count": null,
   "metadata": {},
   "outputs": [],
   "source": [
    "from scipy.stats import skew \n",
    "skewness = skew(house_num)\n",
    "print(skewness)"
   ]
  },
  {
   "cell_type": "code",
   "execution_count": null,
   "metadata": {},
   "outputs": [],
   "source": [
    "sns.kdeplot(house_num['LotFrontage'])\n",
    "plt.show()"
   ]
  },
  {
   "cell_type": "code",
   "execution_count": null,
   "metadata": {},
   "outputs": [],
   "source": [
    "sns.kdeplot(house_num['LotArea'])\n",
    "plt.show()"
   ]
  },
  {
   "cell_type": "code",
   "execution_count": null,
   "metadata": {},
   "outputs": [],
   "source": [
    "sns.kdeplot(house_num['MiscVal'])\n",
    "plt.show()"
   ]
  },
  {
   "cell_type": "code",
   "execution_count": null,
   "metadata": {},
   "outputs": [],
   "source": [
    "sns.kdeplot(house_num['SalePrice'])\n",
    "plt.show()"
   ]
  },
  {
   "cell_type": "code",
   "execution_count": null,
   "metadata": {},
   "outputs": [],
   "source": [
    "sns.kdeplot(house_num['GarageArea'])\n",
    "plt.show()"
   ]
  },
  {
   "cell_type": "markdown",
   "metadata": {},
   "source": [
    "The numerical varibles are highly right skeweed bcoz their skewness is almost greater than 1 for most of the variables in the dataset so it is heavily right skeweed"
   ]
  },
  {
   "cell_type": "markdown",
   "metadata": {},
   "source": [
    "and have shown the distribution graph for few variables "
   ]
  },
  {
   "cell_type": "markdown",
   "metadata": {},
   "source": [
    "# 3.c correlation matrix "
   ]
  },
  {
   "cell_type": "code",
   "execution_count": null,
   "metadata": {},
   "outputs": [],
   "source": [
    "corrmat=house_num.corr()"
   ]
  },
  {
   "cell_type": "code",
   "execution_count": null,
   "metadata": {},
   "outputs": [],
   "source": [
    "corrmat"
   ]
  },
  {
   "cell_type": "code",
   "execution_count": null,
   "metadata": {},
   "outputs": [],
   "source": [
    "plt.figure(figsize=(20,15))\n",
    "sns.heatmap(corrmat, annot=True, cmap='coolwarm')\n"
   ]
  },
  {
   "cell_type": "markdown",
   "metadata": {},
   "source": [
    "SINCE THERE ARE MORE VARIABLES IT IS HARD TO FIND CORRELATION AND SOME OF THEM DONT HAVE EFFECT IN PREDICTION SO I HAVE SELECTED ONLY HIGHLY CORRELATED VARIABLES FROM NUMERIC DATA "
   ]
  },
  {
   "cell_type": "code",
   "execution_count": null,
   "metadata": {},
   "outputs": [],
   "source": [
    "#FINDING MOST CORRELATED DATA \n",
    "cols = corrmat.nlargest(8, 'SalePrice')['SalePrice'].index\n",
    "f, ax = plt.subplots(figsize=(7, 7))\n",
    "sns.heatmap(house_num[cols].corr(), annot=True, linewidths=.5);"
   ]
  },
  {
   "cell_type": "markdown",
   "metadata": {},
   "source": [
    "# 3.d Pair plot for distribution and density"
   ]
  },
  {
   "cell_type": "code",
   "execution_count": null,
   "metadata": {},
   "outputs": [],
   "source": [
    "# PAIR PLOT FOR HIGHLY CORRELATED VARIABLES  \n",
    "cols = ['SalePrice', 'GrLivArea','TotalBsmtSF', '1stFlrSF','MasVnrArea','GarageArea','BsmtFinSF1','LotFrontage']\n",
    "sns.pairplot(house_num[cols], size = 8);"
   ]
  },
  {
   "cell_type": "markdown",
   "metadata": {},
   "source": [
    "The above plot clearly shows a linear relationship between SalePrice and GarageArea,TotalBsmtSF, 1stFlrSY and GrLivArea. The SalePrice increases with an increase in GarageArea, TotalBsmtSF, 1stFlrSY and GrLivArea."
   ]
  },
  {
   "cell_type": "code",
   "execution_count": null,
   "metadata": {},
   "outputs": [],
   "source": [
    "house_cat.head()"
   ]
  },
  {
   "cell_type": "code",
   "execution_count": null,
   "metadata": {},
   "outputs": [],
   "source": [
    "house_cat.info()"
   ]
  },
  {
   "cell_type": "markdown",
   "metadata": {},
   "source": [
    "# 4 . EDA OF CATEGORICAL VARIABLE  "
   ]
  },
  {
   "cell_type": "code",
   "execution_count": null,
   "metadata": {},
   "outputs": [],
   "source": [
    "# MISSING VALUE TREATMENT "
   ]
  },
  {
   "cell_type": "code",
   "execution_count": null,
   "metadata": {},
   "outputs": [],
   "source": [
    "for column in house_cat:\n",
    "    print(house_cat[column].value_counts())"
   ]
  },
  {
   "cell_type": "code",
   "execution_count": null,
   "metadata": {},
   "outputs": [],
   "source": [
    "house_cat.isnull().sum()"
   ]
  },
  {
   "cell_type": "code",
   "execution_count": null,
   "metadata": {},
   "outputs": [],
   "source": [
    "house_cat['MiscFeature'].value_counts()"
   ]
  },
  {
   "cell_type": "code",
   "execution_count": null,
   "metadata": {},
   "outputs": [],
   "source": [
    "house_cat['Fence'].value_counts()"
   ]
  },
  {
   "cell_type": "code",
   "execution_count": null,
   "metadata": {},
   "outputs": [],
   "source": [
    "house_cat['PoolQC'].value_counts()"
   ]
  },
  {
   "cell_type": "code",
   "execution_count": null,
   "metadata": {},
   "outputs": [],
   "source": [
    "house_cat['GarageCond'].value_counts()"
   ]
  },
  {
   "cell_type": "code",
   "execution_count": null,
   "metadata": {},
   "outputs": [],
   "source": [
    "house_cat['GarageQual'].value_counts()"
   ]
  },
  {
   "cell_type": "code",
   "execution_count": null,
   "metadata": {},
   "outputs": [],
   "source": [
    "house_cat['GarageYrBlt'].value_counts()"
   ]
  },
  {
   "cell_type": "markdown",
   "metadata": {},
   "source": [
    "# 4.a missing value treatment"
   ]
  },
  {
   "cell_type": "markdown",
   "metadata": {},
   "source": [
    "# In categorical variables data description it is shown that NA means NoPool , NoGragae, NoAleey and so on"
   ]
  },
  {
   "cell_type": "code",
   "execution_count": null,
   "metadata": {},
   "outputs": [],
   "source": [
    "# so replacing Na with desired values "
   ]
  },
  {
   "cell_type": "code",
   "execution_count": null,
   "metadata": {},
   "outputs": [],
   "source": [
    "house_cat['GarageType'].fillna('No Garage', inplace=True) \n",
    "house_cat['GarageFinish'].fillna('No Garage', inplace=True) \n",
    "house_cat['GarageQual'].fillna('No Garage', inplace=True) \n",
    "house_cat['GarageCond'].fillna('No Garage', inplace=True) \n",
    "house_cat['Alley'].fillna('No Alley', inplace=True)\n",
    "house_cat['GarageYrBlt'].fillna('No Garage', inplace=True)\n",
    "house_cat['BsmtQual'].fillna('No bsmt', inplace=True) \n",
    "house_cat['BsmtCond'].fillna('No bsmt', inplace=True) \n",
    "house_cat['BsmtExposure'].fillna('No bsmt', inplace=True) \n",
    "house_cat['BsmtFinType1'].fillna('No bsmt', inplace=True) \n",
    "house_cat['BsmtFinType2'].fillna('No bsmt', inplace=True) \n",
    "house_cat['FireplaceQu'].fillna('No fire', inplace=True) \n",
    "house_cat['PoolQC'].fillna('No pool', inplace=True) \n",
    "house_cat['Fence'].fillna('No fence', inplace=True) \n",
    "house_cat['MiscFeature'].fillna('No miscfeature', inplace=True) "
   ]
  },
  {
   "cell_type": "code",
   "execution_count": null,
   "metadata": {},
   "outputs": [],
   "source": [
    "house_cat.isnull().sum()"
   ]
  },
  {
   "cell_type": "code",
   "execution_count": null,
   "metadata": {},
   "outputs": [],
   "source": [
    "house_cat = house_cat.dropna()"
   ]
  },
  {
   "cell_type": "code",
   "execution_count": null,
   "metadata": {},
   "outputs": [],
   "source": [
    "house_cat.isnull().sum().sum()"
   ]
  },
  {
   "cell_type": "markdown",
   "metadata": {},
   "source": [
    "# 4.b Count plot for bivariate analysis"
   ]
  },
  {
   "cell_type": "code",
   "execution_count": null,
   "metadata": {},
   "outputs": [],
   "source": [
    "for column in house_cat:\n",
    "    house.groupby(column)['SalePrice'].median().plot.bar()\n",
    "    plt.ylabel('saleprice')\n",
    "    plt.show()"
   ]
  },
  {
   "cell_type": "markdown",
   "metadata": {},
   "source": [
    "# 4.c. identify significant variables using p-values and Chi-Square values"
   ]
  },
  {
   "cell_type": "code",
   "execution_count": null,
   "metadata": {},
   "outputs": [],
   "source": [
    "from scipy.stats import chi2_contingency\n",
    "\n",
    "# Iterate through each categorical variable and perform chi-square test with target variable\n",
    "significant_vars = []\n",
    "target_var = 'SalePrice' \n",
    "for var in house_cat:\n",
    "    contingency_table = pd.crosstab(house[var], house['SalePrice'])\n",
    "    test_stat, p_value, dof, expected_data = chi2_contingency(contingency_table)\n",
    "    if p_value < 0.05:\n",
    "        significant_vars.append(var)\n",
    "\n",
    "# Print significant variables\n",
    "if significant_vars:\n",
    "    print(\"Significant variables:\")\n",
    "    for var in significant_vars:\n",
    "        print(var)\n",
    "else:\n",
    "    print(\"No significant variables found.\")\n"
   ]
  },
  {
   "cell_type": "code",
   "execution_count": null,
   "metadata": {},
   "outputs": [],
   "source": [
    "house_new = house_cat[['MSZoning','LotShape','LotConfig','Neighborhood','OverallQual','OverallCond','MasVnrType','ExterQual','Foundation','BsmtQual']]"
   ]
  },
  {
   "cell_type": "code",
   "execution_count": null,
   "metadata": {},
   "outputs": [],
   "source": [
    "\n",
    "house_numerical=house_num[['GrLivArea','TotalBsmtSF', '1stFlrSF','MasVnrArea','GarageArea','BsmtFinSF1','LotFrontage']]\n"
   ]
  },
  {
   "cell_type": "code",
   "execution_count": null,
   "metadata": {},
   "outputs": [],
   "source": [
    "final = pd.concat([house_new,house_numerical],axis=1)"
   ]
  },
  {
   "cell_type": "markdown",
   "metadata": {},
   "source": [
    "# 5 creating new data set with significant variables "
   ]
  },
  {
   "cell_type": "code",
   "execution_count": null,
   "metadata": {},
   "outputs": [],
   "source": [
    "final"
   ]
  },
  {
   "cell_type": "code",
   "execution_count": null,
   "metadata": {},
   "outputs": [],
   "source": [
    "final.shape"
   ]
  },
  {
   "cell_type": "markdown",
   "metadata": {},
   "source": [
    "# 6 finding variables with outliers "
   ]
  },
  {
   "cell_type": "code",
   "execution_count": null,
   "metadata": {},
   "outputs": [],
   "source": [
    "for column in house_numerical.columns:\n",
    "    fig, ax = plt.subplots()\n",
    "    ax.boxplot(house_numerical[column])\n",
    "    ax.set_title(column)\n",
    "    ax.set_ylabel('Value')\n",
    "    plt.show()"
   ]
  },
  {
   "cell_type": "code",
   "execution_count": null,
   "metadata": {},
   "outputs": [],
   "source": [
    "cols_to_transform = ['GrLivArea','TotalBsmtSF', '1stFlrSF','MasVnrArea','GarageArea','BsmtFinSF1','LotFrontage']\n"
   ]
  },
  {
   "cell_type": "code",
   "execution_count": null,
   "metadata": {},
   "outputs": [],
   "source": [
    "house_numerical[cols_to_transform]= np.log10(house_numerical[cols_to_transform])"
   ]
  },
  {
   "cell_type": "code",
   "execution_count": null,
   "metadata": {},
   "outputs": [],
   "source": [
    "house_numerical[cols_to_transform]"
   ]
  },
  {
   "cell_type": "code",
   "execution_count": null,
   "metadata": {},
   "outputs": [],
   "source": [
    "for column in house_numerical.columns:\n",
    "    fig, ax = plt.subplots()\n",
    "    ax.boxplot(house_numerical[column])\n",
    "    ax.set_title(column)\n",
    "    ax.set_ylabel('Value')\n",
    "    plt.show()"
   ]
  },
  {
   "cell_type": "markdown",
   "metadata": {},
   "source": [
    "logtransform on few variables dosent worked well so have  to find some other ways to treat this outliers "
   ]
  },
  {
   "cell_type": "code",
   "execution_count": null,
   "metadata": {},
   "outputs": [],
   "source": [
    "house_nume=house_num[['GrLivArea','TotalBsmtSF', '1stFlrSF','MasVnrArea','GarageArea','BsmtFinSF1','LotFrontage']]\n"
   ]
  },
  {
   "cell_type": "code",
   "execution_count": null,
   "metadata": {},
   "outputs": [],
   "source": [
    "house_nume"
   ]
  },
  {
   "cell_type": "code",
   "execution_count": null,
   "metadata": {},
   "outputs": [],
   "source": [
    "# Define the lower and upper bounds\n",
    "from scipy.stats.mstats import winsorize\n",
    "lower_bound = 0.05\n",
    "upper_bound = 0.95\n",
    "\n",
    "# Winsorize the data frame\n",
    "nume_winsorized = house_nume.apply(lambda x: winsorize(x, limits=(lower_bound, upper_bound)))\n",
    "\n",
    "# Print the winsorized data frame\n",
    "print(nume_winsorized)"
   ]
  },
  {
   "cell_type": "code",
   "execution_count": null,
   "metadata": {},
   "outputs": [],
   "source": [
    "for column in nume_winsorized.columns:\n",
    "    fig, ax = plt.subplots()\n",
    "    ax.boxplot(nume_winsorized[column])\n",
    "    ax.set_title(column)\n",
    "    ax.set_ylabel('Value')\n",
    "    plt.show()"
   ]
  },
  {
   "cell_type": "markdown",
   "metadata": {},
   "source": [
    "Winsorization is a technique used to handle outliers in a dataset by replacing extreme values with less extreme ones. The Winsorization process replaces the values that fall above a certain threshold (upper bound) or below a certain threshold (lower bound) with the next highest or lowest value within the threshold. unfotunately this technique dosent worked for our dataset so leaving the outliers as it as bcoz sometimes outlier also bring some meaning to the dataset if we over try to treat it. our dataset may get biased and some time loss of information also occurs, so i dont try to overfit the data ."
   ]
  },
  {
   "cell_type": "code",
   "execution_count": null,
   "metadata": {},
   "outputs": [],
   "source": [
    "final"
   ]
  },
  {
   "cell_type": "code",
   "execution_count": null,
   "metadata": {},
   "outputs": [],
   "source": []
  }
 ],
 "metadata": {
  "kernelspec": {
   "display_name": "Python 3",
   "language": "python",
   "name": "python3"
  },
  "language_info": {
   "codemirror_mode": {
    "name": "ipython",
    "version": 3
   },
   "file_extension": ".py",
   "mimetype": "text/x-python",
   "name": "python",
   "nbconvert_exporter": "python",
   "pygments_lexer": "ipython3",
   "version": "3.7.6"
  }
 },
 "nbformat": 4,
 "nbformat_minor": 4
}
